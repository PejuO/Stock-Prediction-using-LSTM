{
 "cells": [
  {
   "cell_type": "code",
   "execution_count": 1,
   "metadata": {},
   "outputs": [],
   "source": [
    "import pandas as pd\n",
    "from sklearn.linear_model import LinearRegression\n",
    "from sklearn.model_selection import train_test_split\n",
    "import matplotlib.pyplot as plt\n",
    "import numpy as np\n",
    "import seaborn as sb\n",
    "import pandas_datareader as web\n",
    "\n",
    "%matplotlib inline\n",
    "\n",
    "from matplotlib.pylab import rcParams\n",
    "rcParams['figure.figsize']=20,10\n",
    "from keras.models import Sequential\n",
    "from keras.layers import LSTM,Dropout,Dense\n",
    "\n",
    "\n",
    "from sklearn.preprocessing import MinMaxScaler"
   ]
  },
  {
   "cell_type": "code",
   "execution_count": 2,
   "metadata": {},
   "outputs": [
    {
     "data": {
      "text/html": [
       "<div>\n",
       "<style scoped>\n",
       "    .dataframe tbody tr th:only-of-type {\n",
       "        vertical-align: middle;\n",
       "    }\n",
       "\n",
       "    .dataframe tbody tr th {\n",
       "        vertical-align: top;\n",
       "    }\n",
       "\n",
       "    .dataframe thead th {\n",
       "        text-align: right;\n",
       "    }\n",
       "</style>\n",
       "<table border=\"1\" class=\"dataframe\">\n",
       "  <thead>\n",
       "    <tr style=\"text-align: right;\">\n",
       "      <th></th>\n",
       "      <th>High</th>\n",
       "      <th>Low</th>\n",
       "      <th>Open</th>\n",
       "      <th>Close</th>\n",
       "      <th>Volume</th>\n",
       "      <th>Adj Close</th>\n",
       "    </tr>\n",
       "    <tr>\n",
       "      <th>Date</th>\n",
       "      <th></th>\n",
       "      <th></th>\n",
       "      <th></th>\n",
       "      <th></th>\n",
       "      <th></th>\n",
       "      <th></th>\n",
       "    </tr>\n",
       "  </thead>\n",
       "  <tbody>\n",
       "    <tr>\n",
       "      <th>2015-11-02</th>\n",
       "      <td>628.630005</td>\n",
       "      <td>620.409973</td>\n",
       "      <td>627.130005</td>\n",
       "      <td>628.349976</td>\n",
       "      <td>2816500</td>\n",
       "      <td>628.349976</td>\n",
       "    </tr>\n",
       "    <tr>\n",
       "      <th>2015-11-03</th>\n",
       "      <td>629.890015</td>\n",
       "      <td>622.000000</td>\n",
       "      <td>629.530029</td>\n",
       "      <td>625.309998</td>\n",
       "      <td>3246900</td>\n",
       "      <td>625.309998</td>\n",
       "    </tr>\n",
       "    <tr>\n",
       "      <th>2015-11-04</th>\n",
       "      <td>645.929993</td>\n",
       "      <td>627.349976</td>\n",
       "      <td>627.760010</td>\n",
       "      <td>640.950012</td>\n",
       "      <td>4840500</td>\n",
       "      <td>640.950012</td>\n",
       "    </tr>\n",
       "    <tr>\n",
       "      <th>2015-11-05</th>\n",
       "      <td>657.000000</td>\n",
       "      <td>643.090027</td>\n",
       "      <td>647.099976</td>\n",
       "      <td>655.650024</td>\n",
       "      <td>4723800</td>\n",
       "      <td>655.650024</td>\n",
       "    </tr>\n",
       "    <tr>\n",
       "      <th>2015-11-06</th>\n",
       "      <td>662.260010</td>\n",
       "      <td>652.000000</td>\n",
       "      <td>655.000000</td>\n",
       "      <td>659.369995</td>\n",
       "      <td>4092200</td>\n",
       "      <td>659.369995</td>\n",
       "    </tr>\n",
       "  </tbody>\n",
       "</table>\n",
       "</div>"
      ],
      "text/plain": [
       "                  High         Low        Open       Close   Volume  \\\n",
       "Date                                                                  \n",
       "2015-11-02  628.630005  620.409973  627.130005  628.349976  2816500   \n",
       "2015-11-03  629.890015  622.000000  629.530029  625.309998  3246900   \n",
       "2015-11-04  645.929993  627.349976  627.760010  640.950012  4840500   \n",
       "2015-11-05  657.000000  643.090027  647.099976  655.650024  4723800   \n",
       "2015-11-06  662.260010  652.000000  655.000000  659.369995  4092200   \n",
       "\n",
       "             Adj Close  \n",
       "Date                    \n",
       "2015-11-02  628.349976  \n",
       "2015-11-03  625.309998  \n",
       "2015-11-04  640.950012  \n",
       "2015-11-05  655.650024  \n",
       "2015-11-06  659.369995  "
      ]
     },
     "execution_count": 2,
     "metadata": {},
     "output_type": "execute_result"
    }
   ],
   "source": [
    "#input data\n",
    "company_tickers = 'AMZN'\n",
    "start_date = '2015-10-31'\n",
    "end_date = '2020-10-31'\n",
    "\n",
    "df = web.DataReader(company_tickers, 'yahoo', start_date, end_date)\n",
    "df.head()"
   ]
  },
  {
   "cell_type": "code",
   "execution_count": 3,
   "metadata": {},
   "outputs": [
    {
     "data": {
      "text/plain": [
       "<bound method DataFrame.info of                    High          Low         Open        Close   Volume  \\\n",
       "Date                                                                      \n",
       "2015-11-02   628.630005   620.409973   627.130005   628.349976  2816500   \n",
       "2015-11-03   629.890015   622.000000   629.530029   625.309998  3246900   \n",
       "2015-11-04   645.929993   627.349976   627.760010   640.950012  4840500   \n",
       "2015-11-05   657.000000   643.090027   647.099976   655.650024  4723800   \n",
       "2015-11-06   662.260010   652.000000   655.000000   659.369995  4092200   \n",
       "...                 ...          ...          ...          ...      ...   \n",
       "2020-10-26  3282.979980  3153.300049  3198.739990  3207.040039  5901200   \n",
       "2020-10-27  3291.659912  3211.300049  3224.939941  3286.330078  4291000   \n",
       "2020-10-28  3264.020020  3162.469971  3249.300049  3162.780029  5588300   \n",
       "2020-10-29  3257.250000  3164.000000  3201.270020  3211.010010  6596500   \n",
       "2020-10-30  3167.000000  3019.000000  3157.750000  3036.149902  8386400   \n",
       "\n",
       "              Adj Close  \n",
       "Date                     \n",
       "2015-11-02   628.349976  \n",
       "2015-11-03   625.309998  \n",
       "2015-11-04   640.950012  \n",
       "2015-11-05   655.650024  \n",
       "2015-11-06   659.369995  \n",
       "...                 ...  \n",
       "2020-10-26  3207.040039  \n",
       "2020-10-27  3286.330078  \n",
       "2020-10-28  3162.780029  \n",
       "2020-10-29  3211.010010  \n",
       "2020-10-30  3036.149902  \n",
       "\n",
       "[1259 rows x 6 columns]>"
      ]
     },
     "execution_count": 3,
     "metadata": {},
     "output_type": "execute_result"
    }
   ],
   "source": [
    "df.info"
   ]
  },
  {
   "cell_type": "code",
   "execution_count": 4,
   "metadata": {},
   "outputs": [
    {
     "name": "stdout",
     "output_type": "stream",
     "text": [
      "High         0\n",
      "Low          0\n",
      "Open         0\n",
      "Close        0\n",
      "Volume       0\n",
      "Adj Close    0\n",
      "dtype: int64\n"
     ]
    }
   ],
   "source": [
    "#Check for missing data\n",
    "print(df.isnull().sum())"
   ]
  },
  {
   "cell_type": "code",
   "execution_count": 5,
   "metadata": {},
   "outputs": [
    {
     "data": {
      "text/html": [
       "<div>\n",
       "<style scoped>\n",
       "    .dataframe tbody tr th:only-of-type {\n",
       "        vertical-align: middle;\n",
       "    }\n",
       "\n",
       "    .dataframe tbody tr th {\n",
       "        vertical-align: top;\n",
       "    }\n",
       "\n",
       "    .dataframe thead th {\n",
       "        text-align: right;\n",
       "    }\n",
       "</style>\n",
       "<table border=\"1\" class=\"dataframe\">\n",
       "  <thead>\n",
       "    <tr style=\"text-align: right;\">\n",
       "      <th></th>\n",
       "      <th>High</th>\n",
       "      <th>Low</th>\n",
       "      <th>Open</th>\n",
       "      <th>Close</th>\n",
       "      <th>Volume</th>\n",
       "      <th>Adj Close</th>\n",
       "    </tr>\n",
       "  </thead>\n",
       "  <tbody>\n",
       "    <tr>\n",
       "      <th>count</th>\n",
       "      <td>1259.000000</td>\n",
       "      <td>1259.000000</td>\n",
       "      <td>1259.000000</td>\n",
       "      <td>1259.000000</td>\n",
       "      <td>1.259000e+03</td>\n",
       "      <td>1259.000000</td>\n",
       "    </tr>\n",
       "    <tr>\n",
       "      <th>mean</th>\n",
       "      <td>1489.314765</td>\n",
       "      <td>1456.272613</td>\n",
       "      <td>1473.895259</td>\n",
       "      <td>1473.539364</td>\n",
       "      <td>4.424853e+06</td>\n",
       "      <td>1473.539364</td>\n",
       "    </tr>\n",
       "    <tr>\n",
       "      <th>std</th>\n",
       "      <td>709.896603</td>\n",
       "      <td>688.082285</td>\n",
       "      <td>699.813763</td>\n",
       "      <td>699.022856</td>\n",
       "      <td>2.150912e+06</td>\n",
       "      <td>699.022856</td>\n",
       "    </tr>\n",
       "    <tr>\n",
       "      <th>min</th>\n",
       "      <td>493.500000</td>\n",
       "      <td>474.000000</td>\n",
       "      <td>478.010010</td>\n",
       "      <td>482.070007</td>\n",
       "      <td>8.813000e+05</td>\n",
       "      <td>482.070007</td>\n",
       "    </tr>\n",
       "    <tr>\n",
       "      <th>25%</th>\n",
       "      <td>841.829987</td>\n",
       "      <td>830.755005</td>\n",
       "      <td>836.295013</td>\n",
       "      <td>836.635010</td>\n",
       "      <td>2.927050e+06</td>\n",
       "      <td>836.635010</td>\n",
       "    </tr>\n",
       "    <tr>\n",
       "      <th>50%</th>\n",
       "      <td>1573.849976</td>\n",
       "      <td>1522.510010</td>\n",
       "      <td>1550.000000</td>\n",
       "      <td>1544.930054</td>\n",
       "      <td>3.876400e+06</td>\n",
       "      <td>1544.930054</td>\n",
       "    </tr>\n",
       "    <tr>\n",
       "      <th>75%</th>\n",
       "      <td>1863.304993</td>\n",
       "      <td>1826.875000</td>\n",
       "      <td>1843.929993</td>\n",
       "      <td>1847.539978</td>\n",
       "      <td>5.271050e+06</td>\n",
       "      <td>1847.539978</td>\n",
       "    </tr>\n",
       "    <tr>\n",
       "      <th>max</th>\n",
       "      <td>3552.250000</td>\n",
       "      <td>3486.689941</td>\n",
       "      <td>3547.000000</td>\n",
       "      <td>3531.449951</td>\n",
       "      <td>1.656500e+07</td>\n",
       "      <td>3531.449951</td>\n",
       "    </tr>\n",
       "  </tbody>\n",
       "</table>\n",
       "</div>"
      ],
      "text/plain": [
       "              High          Low         Open        Close        Volume  \\\n",
       "count  1259.000000  1259.000000  1259.000000  1259.000000  1.259000e+03   \n",
       "mean   1489.314765  1456.272613  1473.895259  1473.539364  4.424853e+06   \n",
       "std     709.896603   688.082285   699.813763   699.022856  2.150912e+06   \n",
       "min     493.500000   474.000000   478.010010   482.070007  8.813000e+05   \n",
       "25%     841.829987   830.755005   836.295013   836.635010  2.927050e+06   \n",
       "50%    1573.849976  1522.510010  1550.000000  1544.930054  3.876400e+06   \n",
       "75%    1863.304993  1826.875000  1843.929993  1847.539978  5.271050e+06   \n",
       "max    3552.250000  3486.689941  3547.000000  3531.449951  1.656500e+07   \n",
       "\n",
       "         Adj Close  \n",
       "count  1259.000000  \n",
       "mean   1473.539364  \n",
       "std     699.022856  \n",
       "min     482.070007  \n",
       "25%     836.635010  \n",
       "50%    1544.930054  \n",
       "75%    1847.539978  \n",
       "max    3531.449951  "
      ]
     },
     "execution_count": 5,
     "metadata": {},
     "output_type": "execute_result"
    }
   ],
   "source": [
    "#Great we have no missing data. Obtain a summary statistics on the data\n",
    "df.reset_index(inplace=True)\n",
    "df.describe()"
   ]
  },
  {
   "cell_type": "markdown",
   "metadata": {},
   "source": [
    "##Exploratory Analysis"
   ]
  },
  {
   "cell_type": "code",
   "execution_count": 7,
   "metadata": {},
   "outputs": [
    {
     "data": {
      "text/plain": [
       "Text(0, 0.5, 'Close Price US($)')"
      ]
     },
     "execution_count": 7,
     "metadata": {},
     "output_type": "execute_result"
    },
    {
     "data": {
      "image/png": "[encoded data removed]",
      "text/plain": [
       "<Figure size 1152x576 with 1 Axes>"
      ]
     },
     "metadata": {
      "needs_background": "light"
     },
     "output_type": "display_data"
    }
   ],
   "source": [
    "#Plot a historical view of the closing price\n",
    "df[\"Date\"]=pd.to_datetime(df.Date,format=\"%Y-%m-%d\")\n",
    "df.index=df['Date']\n",
    "\n",
    "plt.figure(figsize=(16,8))\n",
    "plt.plot(df[\"Close\"],label='Stock Closing Price 5 year History')\n",
    "plt.title('Stock Closing Price 5 year History')\n",
    "plt.xlabel('Date',fontsize=18)\n",
    "plt.ylabel('Close Price US($)',fontsize=18)"
   ]
  },
  {
   "cell_type": "markdown",
   "metadata": {},
   "source": [
    "##Check for Correlation"
   ]
  },
  {
   "cell_type": "code",
   "execution_count": 9,
   "metadata": {},
   "outputs": [
    {
     "data": {
      "text/html": [
       "<div>\n",
       "<style scoped>\n",
       "    .dataframe tbody tr th:only-of-type {\n",
       "        vertical-align: middle;\n",
       "    }\n",
       "\n",
       "    .dataframe tbody tr th {\n",
       "        vertical-align: top;\n",
       "    }\n",
       "\n",
       "    .dataframe thead th {\n",
       "        text-align: right;\n",
       "    }\n",
       "</style>\n",
       "<table border=\"1\" class=\"dataframe\">\n",
       "  <thead>\n",
       "    <tr style=\"text-align: right;\">\n",
       "      <th></th>\n",
       "      <th>High</th>\n",
       "      <th>Low</th>\n",
       "      <th>Open</th>\n",
       "      <th>Close</th>\n",
       "      <th>Volume</th>\n",
       "      <th>Adj Close</th>\n",
       "    </tr>\n",
       "  </thead>\n",
       "  <tbody>\n",
       "    <tr>\n",
       "      <th>High</th>\n",
       "      <td>1.000000</td>\n",
       "      <td>0.999441</td>\n",
       "      <td>0.999672</td>\n",
       "      <td>0.999615</td>\n",
       "      <td>0.158066</td>\n",
       "      <td>0.999615</td>\n",
       "    </tr>\n",
       "    <tr>\n",
       "      <th>Low</th>\n",
       "      <td>0.999441</td>\n",
       "      <td>1.000000</td>\n",
       "      <td>0.999549</td>\n",
       "      <td>0.999642</td>\n",
       "      <td>0.135995</td>\n",
       "      <td>0.999642</td>\n",
       "    </tr>\n",
       "    <tr>\n",
       "      <th>Open</th>\n",
       "      <td>0.999672</td>\n",
       "      <td>0.999549</td>\n",
       "      <td>1.000000</td>\n",
       "      <td>0.999220</td>\n",
       "      <td>0.148945</td>\n",
       "      <td>0.999220</td>\n",
       "    </tr>\n",
       "    <tr>\n",
       "      <th>Close</th>\n",
       "      <td>0.999615</td>\n",
       "      <td>0.999642</td>\n",
       "      <td>0.999220</td>\n",
       "      <td>1.000000</td>\n",
       "      <td>0.146642</td>\n",
       "      <td>1.000000</td>\n",
       "    </tr>\n",
       "    <tr>\n",
       "      <th>Volume</th>\n",
       "      <td>0.158066</td>\n",
       "      <td>0.135995</td>\n",
       "      <td>0.148945</td>\n",
       "      <td>0.146642</td>\n",
       "      <td>1.000000</td>\n",
       "      <td>0.146642</td>\n",
       "    </tr>\n",
       "    <tr>\n",
       "      <th>Adj Close</th>\n",
       "      <td>0.999615</td>\n",
       "      <td>0.999642</td>\n",
       "      <td>0.999220</td>\n",
       "      <td>1.000000</td>\n",
       "      <td>0.146642</td>\n",
       "      <td>1.000000</td>\n",
       "    </tr>\n",
       "  </tbody>\n",
       "</table>\n",
       "</div>"
      ],
      "text/plain": [
       "               High       Low      Open     Close    Volume  Adj Close\n",
       "High       1.000000  0.999441  0.999672  0.999615  0.158066   0.999615\n",
       "Low        0.999441  1.000000  0.999549  0.999642  0.135995   0.999642\n",
       "Open       0.999672  0.999549  1.000000  0.999220  0.148945   0.999220\n",
       "Close      0.999615  0.999642  0.999220  1.000000  0.146642   1.000000\n",
       "Volume     0.158066  0.135995  0.148945  0.146642  1.000000   0.146642\n",
       "Adj Close  0.999615  0.999642  0.999220  1.000000  0.146642   1.000000"
      ]
     },
     "execution_count": 9,
     "metadata": {},
     "output_type": "execute_result"
    }
   ],
   "source": [
    "corr = df.corr(method='pearson')\n",
    "corr"
   ]
  },
  {
   "cell_type": "code",
   "execution_count": 10,
   "metadata": {},
   "outputs": [
    {
     "data": {
      "text/plain": [
       "<AxesSubplot:>"
      ]
     },
     "execution_count": 10,
     "metadata": {},
     "output_type": "execute_result"
    },
    {
     "data": {
      "image/png": "[encoded data removed]",
      "text/plain": [
       "<Figure size 1440x720 with 2 Axes>"
      ]
     },
     "metadata": {
      "needs_background": "light"
     },
     "output_type": "display_data"
    }
   ],
   "source": [
    "sb.heatmap(corr,xticklabels=corr.columns, yticklabels=corr.columns,\n",
    " cmap='RdBu_r', annot=True, linewidth=0.5)"
   ]
  },
  {
   "cell_type": "markdown",
   "metadata": {},
   "source": [
    "#Sort the dataset on date time and filter “Date” and “Close” columns:"
   ]
  },
  {
   "cell_type": "code",
   "execution_count": 11,
   "metadata": {},
   "outputs": [],
   "source": [
    "data=df.sort_index(ascending=True,axis=0)\n",
    "new_dataset=pd.DataFrame(index=range(0,len(df)),columns=['Date','Close'])\n",
    "\n",
    "for i in range(0,len(data)):\n",
    "    new_dataset[\"Date\"][i]=data['Date'][i]\n",
    "    new_dataset[\"Close\"][i]=data[\"Close\"][i]\n",
    "    \n",
    "training_data_len = int(np.ceil(len(df) * .8 ))"
   ]
  },
  {
   "cell_type": "markdown",
   "metadata": {},
   "source": [
    "#Normalize the new filtered dataset:"
   ]
  },
  {
   "cell_type": "code",
   "execution_count": 14,
   "metadata": {},
   "outputs": [],
   "source": [
    "new_dataset.reset_index(inplace=True)"
   ]
  },
  {
   "cell_type": "code",
   "execution_count": 15,
   "metadata": {},
   "outputs": [],
   "source": [
    "scaler=MinMaxScaler(feature_range=(0,1))\n",
    "new_dataset.index=new_dataset.Date\n",
    "new_dataset.drop(\"Date\",axis=1,inplace=True)\n",
    "final_dataset=new_dataset.values\n",
    "\n",
    "train_data=final_dataset[0:training_data_len,:]\n",
    "valid_data=final_dataset[training_data_len:,:]\n",
    "\n",
    "\n",
    "scaled_data=scaler.fit_transform(final_dataset)\n",
    "\n",
    "x_train_data,y_train_data=[],[]\n",
    "\n",
    "for i in range(60,len(train_data)):\n",
    "    x_train_data.append(scaled_data[i-60:i,0])\n",
    "    y_train_data.append(scaled_data[i,0])\n",
    "    \n",
    "x_train_data,y_train_data=np.array(x_train_data),np.array(y_train_data)\n",
    "x_train_data=np.reshape(x_train_data,(x_train_data.shape[0],x_train_data.shape[1],1))\n"
   ]
  },
  {
   "cell_type": "code",
   "execution_count": 16,
   "metadata": {},
   "outputs": [
    {
     "name": "stdout",
     "output_type": "stream",
     "text": [
      "948/948 - 24s - loss: 7.8919e-04\n"
     ]
    },
    {
     "data": {
      "text/plain": [
       "<tensorflow.python.keras.callbacks.History at 0x1b504590130>"
      ]
     },
     "execution_count": 16,
     "metadata": {},
     "output_type": "execute_result"
    }
   ],
   "source": [
    "#Build and train the LSTM model\n",
    "lstm_model=Sequential()\n",
    "lstm_model.add(LSTM(units=50,return_sequences=True,input_shape=(x_train_data.shape[1],1)))\n",
    "lstm_model.add(LSTM(units=50))\n",
    "lstm_model.add(Dense(1))\n",
    "\n",
    "inputs_data=new_dataset[len(new_dataset)-len(valid_data)-60:].values\n",
    "inputs_data=inputs_data.reshape(-1,1)\n",
    "inputs_data=scaler.transform(inputs_data)\n",
    "\n",
    "lstm_model.compile(loss='mean_squared_error',optimizer='adam')\n",
    "lstm_model.fit(x_train_data,y_train_data,epochs=1,batch_size=1,verbose=2)"
   ]
  },
  {
   "cell_type": "code",
   "execution_count": 17,
   "metadata": {},
   "outputs": [],
   "source": [
    "#Take a sample of a dataset to make stock price predictions using the LSTM model.\n",
    "\n",
    "X_test=[]\n",
    "for i in range(60,inputs_data.shape[0]):\n",
    "    X_test.append(inputs_data[i-60:i,0])\n",
    "X_test=np.array(X_test)\n",
    "\n",
    "X_test=np.reshape(X_test,(X_test.shape[0],X_test.shape[1],1))\n",
    "predicted_closing_price=lstm_model.predict(X_test)\n",
    "predicted_closing_price=scaler.inverse_transform(predicted_closing_price)\n",
    "\n",
    "lstm_model.save(\"saved_model.h5\")"
   ]
  },
  {
   "cell_type": "markdown",
   "metadata": {},
   "source": [
    "## Visualize the predicted stock costs."
   ]
  },
  {
   "cell_type": "code",
   "execution_count": 25,
   "metadata": {},
   "outputs": [
    {
     "data": {
      "text/plain": [
       "Date\n",
       "2015-11-02   2015-11-02\n",
       "Name: Date, dtype: datetime64[ns]"
      ]
     },
     "execution_count": 25,
     "metadata": {},
     "output_type": "execute_result"
    }
   ],
   "source": [
    "df['Date'].head(1)\n"
   ]
  },
  {
   "cell_type": "code",
   "execution_count": 26,
   "metadata": {},
   "outputs": [
    {
     "name": "stderr",
     "output_type": "stream",
     "text": [
      "<ipython-input-26-8433ef4c48b4>:3: SettingWithCopyWarning: \n",
      "A value is trying to be set on a copy of a slice from a DataFrame.\n",
      "Try using .loc[row_indexer,col_indexer] = value instead\n",
      "\n",
      "See the caveats in the documentation: https://pandas.pydata.org/pandas-docs/stable/user_guide/indexing.html#returning-a-view-versus-a-copy\n",
      "  valid_data['Predictions'] = predicted_closing_price\n"
     ]
    },
    {
     "data": {
      "image/png": "[encoded data removed]",
      "text/plain": [
       "<Figure size 1440x720 with 1 Axes>"
      ]
     },
     "metadata": {
      "needs_background": "light"
     },
     "output_type": "display_data"
    }
   ],
   "source": [
    "train_data=new_dataset[:training_data_len]\n",
    "valid_data=new_dataset[training_data_len:]\n",
    "valid_data['Predictions'] = predicted_closing_price\n",
    "\n",
    "\n",
    "plt.plot(train_data[\"Close\"])\n",
    "plt.plot(valid_data[\"Close\"])\n",
    "plt.plot(valid_data['Predictions'])\n",
    "\n",
    "plt.title('Model')\n",
    "plt.xlabel('Date', fontsize=18)\n",
    "plt.ylabel('Close Price USD ($)', fontsize=18)\n",
    "plt.legend(['Train', 'Validation', 'Predictions'], loc='lower right')\n",
    "plt.show()"
   ]
  },
  {
   "cell_type": "markdown",
   "metadata": {},
   "source": [
    "###Print the valid and predicted prices"
   ]
  },
  {
   "cell_type": "code",
   "execution_count": 27,
   "metadata": {},
   "outputs": [
    {
     "data": {
      "text/html": [
       "<div>\n",
       "<style scoped>\n",
       "    .dataframe tbody tr th:only-of-type {\n",
       "        vertical-align: middle;\n",
       "    }\n",
       "\n",
       "    .dataframe tbody tr th {\n",
       "        vertical-align: top;\n",
       "    }\n",
       "\n",
       "    .dataframe thead th {\n",
       "        text-align: right;\n",
       "    }\n",
       "</style>\n",
       "<table border=\"1\" class=\"dataframe\">\n",
       "  <thead>\n",
       "    <tr style=\"text-align: right;\">\n",
       "      <th></th>\n",
       "      <th>Close</th>\n",
       "      <th>Predictions</th>\n",
       "    </tr>\n",
       "    <tr>\n",
       "      <th>Date</th>\n",
       "      <th></th>\n",
       "      <th></th>\n",
       "    </tr>\n",
       "  </thead>\n",
       "  <tbody>\n",
       "    <tr>\n",
       "      <th>2019-11-04</th>\n",
       "      <td>1804.66</td>\n",
       "      <td>1850.718994</td>\n",
       "    </tr>\n",
       "    <tr>\n",
       "      <th>2019-11-05</th>\n",
       "      <td>1801.71</td>\n",
       "      <td>1853.922852</td>\n",
       "    </tr>\n",
       "    <tr>\n",
       "      <th>2019-11-06</th>\n",
       "      <td>1795.77</td>\n",
       "      <td>1857.368042</td>\n",
       "    </tr>\n",
       "    <tr>\n",
       "      <th>2019-11-07</th>\n",
       "      <td>1788.2</td>\n",
       "      <td>1860.398682</td>\n",
       "    </tr>\n",
       "    <tr>\n",
       "      <th>2019-11-08</th>\n",
       "      <td>1785.88</td>\n",
       "      <td>1862.549194</td>\n",
       "    </tr>\n",
       "    <tr>\n",
       "      <th>...</th>\n",
       "      <td>...</td>\n",
       "      <td>...</td>\n",
       "    </tr>\n",
       "    <tr>\n",
       "      <th>2020-10-26</th>\n",
       "      <td>3207.04</td>\n",
       "      <td>3025.773926</td>\n",
       "    </tr>\n",
       "    <tr>\n",
       "      <th>2020-10-27</th>\n",
       "      <td>3286.33</td>\n",
       "      <td>3018.728516</td>\n",
       "    </tr>\n",
       "    <tr>\n",
       "      <th>2020-10-28</th>\n",
       "      <td>3162.78</td>\n",
       "      <td>3017.698486</td>\n",
       "    </tr>\n",
       "    <tr>\n",
       "      <th>2020-10-29</th>\n",
       "      <td>3211.01</td>\n",
       "      <td>3012.266357</td>\n",
       "    </tr>\n",
       "    <tr>\n",
       "      <th>2020-10-30</th>\n",
       "      <td>3036.15</td>\n",
       "      <td>3008.636475</td>\n",
       "    </tr>\n",
       "  </tbody>\n",
       "</table>\n",
       "<p>251 rows × 2 columns</p>\n",
       "</div>"
      ],
      "text/plain": [
       "              Close  Predictions\n",
       "Date                            \n",
       "2019-11-04  1804.66  1850.718994\n",
       "2019-11-05  1801.71  1853.922852\n",
       "2019-11-06  1795.77  1857.368042\n",
       "2019-11-07   1788.2  1860.398682\n",
       "2019-11-08  1785.88  1862.549194\n",
       "...             ...          ...\n",
       "2020-10-26  3207.04  3025.773926\n",
       "2020-10-27  3286.33  3018.728516\n",
       "2020-10-28  3162.78  3017.698486\n",
       "2020-10-29  3211.01  3012.266357\n",
       "2020-10-30  3036.15  3008.636475\n",
       "\n",
       "[251 rows x 2 columns]"
      ]
     },
     "execution_count": 27,
     "metadata": {},
     "output_type": "execute_result"
    }
   ],
   "source": [
    "#Show the valid and predicted prices\n",
    "valid_data"
   ]
  },
  {
   "cell_type": "markdown",
   "metadata": {},
   "source": [
    "##Conculsion\n",
    "\n",
    "In this project, the following was accomplished: \n",
    "\n",
    "    1. Data extraction from the web using pandas_datareader.\n",
    "    2. Data exploration  \n",
    "    3. Python seaborn library to visualize correlation heatmap\n",
    "    4. Pearson correlation\n",
    "    5. Feature plotting against dependent output using Matplotlib.\n",
    "    6. Plotting of Actual value with the Predicted value.\n",
    "       "
   ]
  },
  {
   "cell_type": "code",
   "execution_count": null,
   "metadata": {},
   "outputs": [],
   "source": []
  }
 ],
 "metadata": {
  "kernelspec": {
   "display_name": "Python 3",
   "language": "python",
   "name": "python3"
  },
  "language_info": {
   "codemirror_mode": {
    "name": "ipython",
    "version": 3
   },
   "file_extension": ".py",
   "mimetype": "text/x-python",
   "name": "python",
   "nbconvert_exporter": "python",
   "pygments_lexer": "ipython3",
   "version": "3.8.3"
  }
 },
 "nbformat": 4,
 "nbformat_minor": 4
}
